{
 "cells": [
  {
   "cell_type": "code",
   "execution_count": 1,
   "id": "b859f941",
   "metadata": {},
   "outputs": [],
   "source": [
    "import numpy as np\n",
    "import pandas as pd\n",
    "from sklearn.linear_model import LinearRegression\n",
    "from sklearn.linear_model import LogisticRegression\n",
    "from sklearn.linear_model import Lasso\n",
    "from sklearn.naive_bayes import GaussianNB\n",
    "from sklearn.ensemble import AdaBoostClassifier\n",
    "from sklearn.ensemble import AdaBoostRegressor\n",
    "from sklearn.ensemble import RandomForestRegressor\n",
    "from sklearn.ensemble import RandomForestClassifier\n",
    "from sklearn.metrics import mean_squared_error\n",
    "from sklearn.metrics import accuracy_score\n",
    "from datetime import date, timedelta\n",
    "import matplotlib.pyplot as plt"
   ]
  },
  {
   "cell_type": "markdown",
   "id": "c76009ec",
   "metadata": {},
   "source": [
    "# Data Cleaning"
   ]
  },
  {
   "cell_type": "code",
   "execution_count": 129,
   "id": "558185f3",
   "metadata": {},
   "outputs": [
    {
     "name": "stdout",
     "output_type": "stream",
     "text": [
      "<class 'pandas.core.frame.DataFrame'>\n",
      "DatetimeIndex: 1802 entries, 2022-02-28 to 2014-11-28\n",
      "Data columns (total 14 columns):\n",
      " #   Column                Non-Null Count  Dtype  \n",
      "---  ------                --------------  -----  \n",
      " 0   open                  1802 non-null   float64\n",
      " 1   close                 1802 non-null   float64\n",
      " 2   Volume BTC            1802 non-null   float64\n",
      " 3   Volume USD            1802 non-null   float64\n",
      " 4   EUR:Euro              1802 non-null   float64\n",
      " 5   CAD:Canadian dollar   1802 non-null   float64\n",
      " 6   CHF:Swiss franc       1802 non-null   float64\n",
      " 7   GBP:Pound (sterling)  1802 non-null   float64\n",
      " 8   JPY:Yen               1802 non-null   float64\n",
      " 9   OpenSNP               1802 non-null   object \n",
      " 10  CloseSNP              1802 non-null   object \n",
      " 11  VolumeSNP             1802 non-null   object \n",
      " 12  valueGold             1802 non-null   float64\n",
      " 13  valueOil              1802 non-null   float64\n",
      "dtypes: float64(11), object(3)\n",
      "memory usage: 211.2+ KB\n"
     ]
    }
   ],
   "source": [
    "#read in csv data\n",
    "daily = pd.read_csv('BTCdaily.csv')\n",
    "exchange = pd.read_csv('Conversions.csv', low_memory = False)\n",
    "SNP = pd.read_csv('SNP500.csv')\n",
    "gold  = pd.read_csv('gold.csv')\n",
    "oil = pd.read_csv('oil.csv')\n",
    "\n",
    "#convert date column from object to datetime and set as index\n",
    "daily['date'] = pd.to_datetime(daily['date'])\n",
    "exchange['date']= pd.to_datetime(exchange['Currency'])\n",
    "SNP['Date'] = pd.to_datetime(SNP['Date'])\n",
    "gold['date'] = pd.to_datetime(gold['date'])\n",
    "oil['date'] = pd.to_datetime(oil['date'])\n",
    "\n",
    "exchange = exchange.set_index('date')['2014-11-28':'2022-02-28'] #only include dates that we have Bitcoin data for\n",
    "daily = daily.set_index('date')\n",
    "SNP = SNP.set_index('Date')\n",
    "gold = gold.set_index('date')\n",
    "oil = oil.set_index('date')\n",
    "gold = gold.rename(columns = {' value':'valueGold'})\n",
    "oil = oil.rename(columns = {' valueOil':'valueOil'})\n",
    "\n",
    "\n",
    "#merge all three dataframes on date\n",
    "df = pd.merge(daily, exchange, left_index = True, right_index = True).fillna(method = 'bfill') #fill null with previous day values\n",
    "df = pd.merge(df, SNP, left_index = True, right_index = True).fillna(method = 'bfill')\n",
    "df = pd.merge(df, gold, left_index = True, right_index = True).fillna(method = 'bfill')\n",
    "df = pd.merge(df, oil, left_index = True, right_index = True)\n",
    "\n",
    "#drop unnecessary columns from dataframe\n",
    "to_drop = ['Currency','AED:UAE dirham','ALL:Lek','ARS:Argentine peso','AUD:Australian dollar','BGN:Lev','BHD:Bahraini dinar',\n",
    "           'BND:Brunei dollar','BRL:Brazilian real','BAM:Bosnian convertible mark','EUR:Euro.1','CLP:Chilean peso',\n",
    "           'CNY:Renminbi','COP:Colombian peso','EUR:Euro.2','CZK:Czech koruna','EUR:Euro.3','DKK:Danish krone',\n",
    "           'DZD:Algerian dinar','EUR:Euro.4','EUR:Euro.5','EUR:Euro.6','EUR:Euro.7','EUR:Euro.8',\n",
    "           'HKD:Hong Kong dollar','HRK:Kuna','HUF:Forint','IDR:Rupiah','EUR:Euro.9','ILS:New shekel',\n",
    "           'IRR:Iranian rial','INR:Indian rupee','ISK:Icelandic krona','EUR:Euro.10', 'UYU:Uruguayan peso','VEF:Bolivar',\n",
    "           'EUR:Euro.18','XDR:Special drawing right', 'KRW:Won','KWD:Kuwaiti dinar','KZT:Tenge',\n",
    "           'LKR:Sri Lanka rupee','EUR:Euro.11','EUR:Euro.12','EUR:Euro.13','MKD:Denar','EUR:Euro.14',\n",
    "           'MUR:Mauritius rupee','MXN:Mexican peso','MYR:Malaysian ringgit','EUR:Euro.15','NOK:Norwegian krone',\n",
    "           'NPR:Nepalese rupee','NZD:New Zealand dollar','OMR:Omani rial','PEN:Sol','PHP:Philippine peso',\n",
    "           'PKR:Pakistan rupee','PLN:Zloty','EUR:Euro.16','QAR:Qatari riyal','RON:Romanian leu','RSD:Serbian Dinar',\n",
    "           'RUB:Russian rouble','SAR:Saudi riyal','SEK:Swedish krona','SGD:Singapore dollar','EUR:Euro.17',\n",
    "           'THB:Baht','TND:Tunisian dinar','TRY:Turkish lira','TTD:Trinidad and Tobago dollar',\n",
    "           'TWD:New Taiwan dollar','UAH:Hryvnia', 'USD:US dollar','ZAR:South African Rand', \n",
    "           'unix', 'symbol','high','low','HighSNP','LowSNP', 'Adj CloseSNP']\n",
    "df = df.drop(columns = to_drop)\n",
    "\n",
    "df.info() #examine data"
   ]
  },
  {
   "cell_type": "code",
   "execution_count": 130,
   "id": "629ba268",
   "metadata": {},
   "outputs": [
    {
     "data": {
      "text/html": [
       "<div>\n",
       "<style scoped>\n",
       "    .dataframe tbody tr th:only-of-type {\n",
       "        vertical-align: middle;\n",
       "    }\n",
       "\n",
       "    .dataframe tbody tr th {\n",
       "        vertical-align: top;\n",
       "    }\n",
       "\n",
       "    .dataframe thead th {\n",
       "        text-align: right;\n",
       "    }\n",
       "</style>\n",
       "<table border=\"1\" class=\"dataframe\">\n",
       "  <thead>\n",
       "    <tr style=\"text-align: right;\">\n",
       "      <th></th>\n",
       "      <th>open</th>\n",
       "      <th>close</th>\n",
       "      <th>Volume BTC</th>\n",
       "      <th>Volume USD</th>\n",
       "      <th>EUR:Euro</th>\n",
       "      <th>CAD:Canadian dollar</th>\n",
       "      <th>CHF:Swiss franc</th>\n",
       "      <th>GBP:Pound (sterling)</th>\n",
       "      <th>JPY:Yen</th>\n",
       "      <th>OpenSNP</th>\n",
       "      <th>CloseSNP</th>\n",
       "      <th>VolumeSNP</th>\n",
       "      <th>valueGold</th>\n",
       "      <th>valueOil</th>\n",
       "    </tr>\n",
       "  </thead>\n",
       "  <tbody>\n",
       "    <tr>\n",
       "      <th>2022-02-28</th>\n",
       "      <td>37717.10</td>\n",
       "      <td>43178.98</td>\n",
       "      <td>3160.618070</td>\n",
       "      <td>1.364723e+08</td>\n",
       "      <td>0.892937</td>\n",
       "      <td>1.273685</td>\n",
       "      <td>0.922940</td>\n",
       "      <td>0.746049</td>\n",
       "      <td>115.465667</td>\n",
       "      <td>4354.17</td>\n",
       "      <td>4373.94</td>\n",
       "      <td>4594010000</td>\n",
       "      <td>1900.7</td>\n",
       "      <td>95.720</td>\n",
       "    </tr>\n",
       "    <tr>\n",
       "      <th>2022-02-25</th>\n",
       "      <td>38360.93</td>\n",
       "      <td>39231.64</td>\n",
       "      <td>2202.851827</td>\n",
       "      <td>8.642149e+07</td>\n",
       "      <td>0.891583</td>\n",
       "      <td>1.277193</td>\n",
       "      <td>0.927068</td>\n",
       "      <td>0.746612</td>\n",
       "      <td>115.584879</td>\n",
       "      <td>4298.38</td>\n",
       "      <td>4384.65</td>\n",
       "      <td>3941780000</td>\n",
       "      <td>1887.6</td>\n",
       "      <td>91.590</td>\n",
       "    </tr>\n",
       "    <tr>\n",
       "      <th>2022-02-24</th>\n",
       "      <td>37253.26</td>\n",
       "      <td>38376.88</td>\n",
       "      <td>6302.850957</td>\n",
       "      <td>2.418838e+08</td>\n",
       "      <td>0.895817</td>\n",
       "      <td>1.282451</td>\n",
       "      <td>0.924483</td>\n",
       "      <td>0.747675</td>\n",
       "      <td>114.915345</td>\n",
       "      <td>4155.77</td>\n",
       "      <td>4288.70</td>\n",
       "      <td>5070560000</td>\n",
       "      <td>1926.3</td>\n",
       "      <td>92.810</td>\n",
       "    </tr>\n",
       "    <tr>\n",
       "      <th>2022-02-23</th>\n",
       "      <td>38269.94</td>\n",
       "      <td>37274.18</td>\n",
       "      <td>1778.275258</td>\n",
       "      <td>6.628375e+07</td>\n",
       "      <td>0.881523</td>\n",
       "      <td>1.268865</td>\n",
       "      <td>0.919517</td>\n",
       "      <td>0.735746</td>\n",
       "      <td>115.109309</td>\n",
       "      <td>4324.93</td>\n",
       "      <td>4225.50</td>\n",
       "      <td>3814340000</td>\n",
       "      <td>1910.4</td>\n",
       "      <td>92.100</td>\n",
       "    </tr>\n",
       "    <tr>\n",
       "      <th>2022-02-22</th>\n",
       "      <td>37036.98</td>\n",
       "      <td>38269.94</td>\n",
       "      <td>2388.759035</td>\n",
       "      <td>9.141766e+07</td>\n",
       "      <td>0.881679</td>\n",
       "      <td>1.273232</td>\n",
       "      <td>0.918886</td>\n",
       "      <td>0.737833</td>\n",
       "      <td>115.094340</td>\n",
       "      <td>4332.74</td>\n",
       "      <td>4304.76</td>\n",
       "      <td>4007780000</td>\n",
       "      <td>1907.4</td>\n",
       "      <td>91.998</td>\n",
       "    </tr>\n",
       "  </tbody>\n",
       "</table>\n",
       "</div>"
      ],
      "text/plain": [
       "                open     close   Volume BTC    Volume USD  EUR:Euro  \\\n",
       "2022-02-28  37717.10  43178.98  3160.618070  1.364723e+08  0.892937   \n",
       "2022-02-25  38360.93  39231.64  2202.851827  8.642149e+07  0.891583   \n",
       "2022-02-24  37253.26  38376.88  6302.850957  2.418838e+08  0.895817   \n",
       "2022-02-23  38269.94  37274.18  1778.275258  6.628375e+07  0.881523   \n",
       "2022-02-22  37036.98  38269.94  2388.759035  9.141766e+07  0.881679   \n",
       "\n",
       "            CAD:Canadian dollar  CHF:Swiss franc  GBP:Pound (sterling)  \\\n",
       "2022-02-28             1.273685         0.922940              0.746049   \n",
       "2022-02-25             1.277193         0.927068              0.746612   \n",
       "2022-02-24             1.282451         0.924483              0.747675   \n",
       "2022-02-23             1.268865         0.919517              0.735746   \n",
       "2022-02-22             1.273232         0.918886              0.737833   \n",
       "\n",
       "               JPY:Yen  OpenSNP  CloseSNP   VolumeSNP  valueGold  valueOil  \n",
       "2022-02-28  115.465667  4354.17   4373.94  4594010000     1900.7    95.720  \n",
       "2022-02-25  115.584879  4298.38   4384.65  3941780000     1887.6    91.590  \n",
       "2022-02-24  114.915345  4155.77   4288.70  5070560000     1926.3    92.810  \n",
       "2022-02-23  115.109309  4324.93   4225.50  3814340000     1910.4    92.100  \n",
       "2022-02-22  115.094340  4332.74   4304.76  4007780000     1907.4    91.998  "
      ]
     },
     "execution_count": 130,
     "metadata": {},
     "output_type": "execute_result"
    }
   ],
   "source": [
    "df.replace(',','', regex=True, inplace=True) #get rid of commas in S&P data so we can use it as numeric\n",
    "df = df.apply(pd.to_numeric, errors='ignore') \n",
    "df.head()"
   ]
  },
  {
   "cell_type": "code",
   "execution_count": 131,
   "id": "fb210ebb",
   "metadata": {},
   "outputs": [],
   "source": [
    "#create some new columns for analysis \n",
    "df['changeBTC'] = df['close'] - df['open']\n",
    "df['changeSNP'] = df['CloseSNP'] - df['OpenSNP']\n",
    "\n",
    "#binary increase columns for classifier models\n",
    "df.loc[df['changeBTC'] > 0, 'BTCincreased'] = 1\n",
    "df.loc[df['changeBTC'] <= 0, 'BTCincreased'] = 0\n",
    "df.loc[df['changeSNP'] > 0 , 'SNPincreased'] = 1\n",
    "df.loc[df['changeSNP'] <= 0, 'SNPincreased'] = 0\n",
    "\n",
    "df['lagChangeSNP'] = df['changeSNP'].shift(-1)\n",
    "df['lagChangeGold'] = df['valueGold'].shift(-1)-df['valueGold'].shift(-2)\n",
    "df['lagOil'] = df['valueOil'].shift(-1)-df['valueOil'].shift(-2)\n",
    "\n",
    "#Lag columns for moving average\n",
    "for i in range (1,6):\n",
    "    df['Lag' + str(i)] = df['close'].shift(-i)\n",
    "    \n",
    "df['movingAvg'] = (df['Lag1']+df['Lag2']+df['Lag3']+df['Lag4']+df['Lag5'])/5\n",
    "\n",
    "#Create a column that counts the days from the beginning of the dataset, so that we can use the date as a predictor\n",
    "df = df.reset_index()\n",
    "df['dayNumber'] = (df['index'] - df['index'].min()).dt.days\n",
    "df = df.set_index('index')"
   ]
  },
  {
   "cell_type": "markdown",
   "id": "efe5a1d3",
   "metadata": {},
   "source": [
    "# Choosing a Model"
   ]
  },
  {
   "cell_type": "markdown",
   "id": "6cd46cfc",
   "metadata": {},
   "source": [
    "## Classifier models using binary variable of BTCincreased"
   ]
  },
  {
   "cell_type": "code",
   "execution_count": 133,
   "id": "68ab47e5",
   "metadata": {},
   "outputs": [],
   "source": [
    "#Split train and test sets for cross validation\n",
    "x_columns = ['Volume BTC', 'EUR:Euro', 'CAD:Canadian dollar','CHF:Swiss franc','GBP:Pound (sterling)', 'JPY:Yen', 'VolumeSNP','valueGold','lagChangeGold','lagChangeSNP', 'lagOil', 'dayNumber']\n",
    "train = df['2022-02-01':'2020-01-01']\n",
    "test  = df['2022-03-01':'2022-02-01']\n",
    "X_train = train[x_columns]\n",
    "y_train = train['BTCincreased']\n",
    "X_test = test[x_columns]\n",
    "y_test = test['BTCincreased']"
   ]
  },
  {
   "cell_type": "markdown",
   "id": "3bf1ad3d",
   "metadata": {},
   "source": [
    "### Logistic Regression"
   ]
  },
  {
   "cell_type": "code",
   "execution_count": 134,
   "id": "f6e011d1",
   "metadata": {},
   "outputs": [],
   "source": [
    "log = LogisticRegression()\n",
    "log.fit(X_train,y_train)\n",
    "logpred = log.predict(X_test)"
   ]
  },
  {
   "cell_type": "markdown",
   "id": "ba6a866c",
   "metadata": {},
   "source": [
    "### Random Forest  Classifier"
   ]
  },
  {
   "cell_type": "code",
   "execution_count": 135,
   "id": "e85781a4",
   "metadata": {},
   "outputs": [
    {
     "name": "stdout",
     "output_type": "stream",
     "text": [
      "Accuracy score of random forest classifier for 1 features is: 0.6842105263157895\n",
      "Accuracy score of random forest classifier for 2 features is: 0.5263157894736842\n",
      "Accuracy score of random forest classifier for 3 features is: 0.6842105263157895\n",
      "Accuracy score of random forest classifier for 4 features is: 0.5789473684210527\n",
      "Accuracy score of random forest classifier for 5 features is: 0.5263157894736842\n",
      "Accuracy score of random forest classifier for 6 features is: 0.5789473684210527\n",
      "Accuracy score of random forest classifier for 7 features is: 0.47368421052631576\n",
      "Accuracy score of random forest classifier for 8 features is: 0.631578947368421\n",
      "Accuracy score of random forest classifier for 9 features is: 0.631578947368421\n",
      "Accuracy score of random forest classifier for 10 features is: 0.631578947368421\n",
      "Accuracy score of random forest classifier for 11 features is: 0.5789473684210527\n",
      "Accuracy score of random forest classifier for 12 features is: 0.5789473684210527\n"
     ]
    }
   ],
   "source": [
    "for i in range(1,len(x_columns)+1):\n",
    "    rfc = RandomForestClassifier(random_state = 1, max_features = i, max_depth = 10)\n",
    "    rfc.fit(X_train, y_train)\n",
    "    rfcpred = rfc.predict(X_test)\n",
    "    print(\"Accuracy score of random forest classifier for\", i, \"features is:\", accuracy_score(y_test, rfcpred))"
   ]
  },
  {
   "cell_type": "code",
   "execution_count": 141,
   "id": "ee6a9524",
   "metadata": {},
   "outputs": [],
   "source": [
    "rfc = RandomForestClassifier(random_state = 1, max_depth = 10, max_features = 3)\n",
    "rfc.fit(X_train, y_train)\n",
    "rfcpred = rfc.predict(X_test)"
   ]
  },
  {
   "cell_type": "code",
   "execution_count": 142,
   "id": "4fa70585",
   "metadata": {},
   "outputs": [
    {
     "data": {
      "text/plain": [
       "<AxesSubplot:>"
      ]
     },
     "execution_count": 142,
     "metadata": {},
     "output_type": "execute_result"
    },
    {
     "data": {
      "image/png": "[encoded data removed]",
      "text/plain": [
       "<Figure size 432x288 with 1 Axes>"
      ]
     },
     "metadata": {
      "needs_background": "light"
     },
     "output_type": "display_data"
    }
   ],
   "source": [
    "#plot feature importances\n",
    "feat_importances = pd.Series(rfc.feature_importances_, index=x_columns)\n",
    "feat_importances.nlargest(10).plot(kind='barh')"
   ]
  },
  {
   "cell_type": "markdown",
   "id": "0191da84",
   "metadata": {},
   "source": [
    "### AdaBoost Classifier"
   ]
  },
  {
   "cell_type": "code",
   "execution_count": 138,
   "id": "9d590b8c",
   "metadata": {},
   "outputs": [],
   "source": [
    "ada = AdaBoostClassifier(n_estimators = 50, random_state = 1)\n",
    "ada.fit(X_train, y_train)\n",
    "adapred = ada.predict(X_test)"
   ]
  },
  {
   "cell_type": "markdown",
   "id": "3cb51a47",
   "metadata": {},
   "source": [
    "### Naive Bayes Classifier"
   ]
  },
  {
   "cell_type": "code",
   "execution_count": 139,
   "id": "da6a7e90",
   "metadata": {},
   "outputs": [],
   "source": [
    "nb = GaussianNB()\n",
    "nb.fit(X_train, y_train)\n",
    "nbpred = nb.predict(X_test)"
   ]
  },
  {
   "cell_type": "markdown",
   "id": "9fd6ef8b",
   "metadata": {},
   "source": [
    "### Accuracy scores and choosing the best classifier model"
   ]
  },
  {
   "cell_type": "code",
   "execution_count": 140,
   "id": "4b04ac61",
   "metadata": {},
   "outputs": [
    {
     "name": "stdout",
     "output_type": "stream",
     "text": [
      "Accuracy score of logistic regression is: 0.631578947368421\n",
      "Accuracy score of random forest classifier is: 0.5263157894736842\n",
      "Accuracy score of ada boost classifier is: 0.7894736842105263\n",
      "Accuracy score for Naive Bayes is: 0.631578947368421\n"
     ]
    }
   ],
   "source": [
    "print(\"Accuracy score of logistic regression is:\", accuracy_score(y_test, logpred))\n",
    "print(\"Accuracy score of random forest classifier is:\", accuracy_score(y_test, rfcpred))\n",
    "print(\"Accuracy score of ada boost classifier is:\", accuracy_score(y_test, adapred))\n",
    "print(\"Accuracy score for Naive Bayes is:\", accuracy_score(y_test, nbpred))"
   ]
  },
  {
   "cell_type": "markdown",
   "id": "89fd2c07",
   "metadata": {},
   "source": [
    "The boosting classifier, which uses a decision tree and \"boosts\" by making more decision trees using the residuals, has by far the highest accuracy score, predicting correctly whether Bitcoin will increase or decrease with 78% accuracy. However, it would be more useful to be able to accurately predict the actual price of Bitcoin, so we will try to create regression models using the monetary change in Bitcoin value as our y variable. "
   ]
  },
  {
   "cell_type": "markdown",
   "id": "551d0edd",
   "metadata": {},
   "source": [
    "## Regression models using continuous variable of changeBTC"
   ]
  },
  {
   "cell_type": "code",
   "execution_count": 143,
   "id": "e01cc6cf",
   "metadata": {},
   "outputs": [],
   "source": [
    "#Change y variable for regression\n",
    "y_train = train['changeBTC']\n",
    "y_test = test['changeBTC']"
   ]
  },
  {
   "cell_type": "markdown",
   "id": "0d159627",
   "metadata": {},
   "source": [
    "### Linear Regression"
   ]
  },
  {
   "cell_type": "code",
   "execution_count": 144,
   "id": "a8b2c459",
   "metadata": {},
   "outputs": [],
   "source": [
    "lin = LinearRegression()\n",
    "lin.fit(X_train, y_train)\n",
    "linpred = lin.predict(X_test) "
   ]
  },
  {
   "cell_type": "markdown",
   "id": "393ca2eb",
   "metadata": {},
   "source": [
    "### Lasso Regression"
   ]
  },
  {
   "cell_type": "code",
   "execution_count": 145,
   "id": "96606d91",
   "metadata": {},
   "outputs": [],
   "source": [
    "las = Lasso()\n",
    "las.fit(X_train, y_train)\n",
    "laspred = las.predict(X_test)"
   ]
  },
  {
   "cell_type": "markdown",
   "id": "195984bc",
   "metadata": {},
   "source": [
    "###  Random Forest Regression"
   ]
  },
  {
   "cell_type": "code",
   "execution_count": 146,
   "id": "82cad0c9",
   "metadata": {},
   "outputs": [],
   "source": [
    "rfr = RandomForestRegressor(max_features = 2, random_state = 1)\n",
    "rfr.fit(X_train, y_train)\n",
    "rfrpred = rfr.predict(X_test)"
   ]
  },
  {
   "cell_type": "markdown",
   "id": "815f43a3",
   "metadata": {},
   "source": [
    "### Boosting Regressor"
   ]
  },
  {
   "cell_type": "code",
   "execution_count": 147,
   "id": "7235dbc0",
   "metadata": {},
   "outputs": [],
   "source": [
    "abr = AdaBoostRegressor(n_estimators = 50, random_state = 1)\n",
    "abr.fit(X_train, y_train)\n",
    "abrpred = abr.predict(X_test)"
   ]
  },
  {
   "cell_type": "markdown",
   "id": "66ebc747",
   "metadata": {},
   "source": [
    "### Measuring accuracy of regressor models using RMSE"
   ]
  },
  {
   "cell_type": "code",
   "execution_count": 148,
   "id": "a71d7ab0",
   "metadata": {},
   "outputs": [
    {
     "name": "stdout",
     "output_type": "stream",
     "text": [
      "RMSE for linear regression is: 2210.522239344135\n",
      "RMSE for Lasso regression is: 2198.4636179672293\n",
      "RMSE for Random Forest regression is: 2233.2294350611223\n",
      "RMSE for ada boost regression is: 2369.5011223955175\n"
     ]
    }
   ],
   "source": [
    "print(\"RMSE for linear regression is:\", mean_squared_error(y_test, linpred, squared = False))\n",
    "print(\"RMSE for Lasso regression is:\", mean_squared_error(y_test, laspred, squared = False))\n",
    "print(\"RMSE for Random Forest regression is:\", mean_squared_error(y_test, rfrpred, squared = False))\n",
    "print(\"RMSE for ada boost regression is:\", mean_squared_error(y_test, abrpred, squared = False))"
   ]
  },
  {
   "cell_type": "markdown",
   "id": "4a1a5b94",
   "metadata": {},
   "source": [
    "The best regression model based on root mean squared error is ada boost regression, with random forest coming close behind. However, the RMSE is quite high for all 4 models, showing that it is much tougher to predict the actual change price of Bitcoin than it is to just predict whether it will go up or down. "
   ]
  },
  {
   "cell_type": "markdown",
   "id": "d9f6dc94",
   "metadata": {},
   "source": [
    "# Exponential Smoothing Forecasting"
   ]
  },
  {
   "cell_type": "markdown",
   "id": "6d0a67ed",
   "metadata": {},
   "source": [
    "Time series forecasting is another way we will attempt to predict Bitcoin prices, which uses previous values to forecast the next period. Two popular methods to do this are moving averages and exponential smoothing, which we will use in this analysis. We use a 5 period moving average in this project, and will use an alpha of 0.5 in our exponential smoothing forecasting. "
   ]
  },
  {
   "cell_type": "code",
   "execution_count": 19,
   "id": "2a225e3f",
   "metadata": {},
   "outputs": [
    {
     "data": {
      "text/html": [
       "<div>\n",
       "<style scoped>\n",
       "    .dataframe tbody tr th:only-of-type {\n",
       "        vertical-align: middle;\n",
       "    }\n",
       "\n",
       "    .dataframe tbody tr th {\n",
       "        vertical-align: top;\n",
       "    }\n",
       "\n",
       "    .dataframe thead th {\n",
       "        text-align: right;\n",
       "    }\n",
       "</style>\n",
       "<table border=\"1\" class=\"dataframe\">\n",
       "  <thead>\n",
       "    <tr style=\"text-align: right;\">\n",
       "      <th></th>\n",
       "      <th>open</th>\n",
       "      <th>close</th>\n",
       "      <th>Volume BTC</th>\n",
       "      <th>Volume USD</th>\n",
       "      <th>EUR:Euro</th>\n",
       "      <th>CAD:Canadian dollar</th>\n",
       "      <th>CHF:Swiss franc</th>\n",
       "      <th>GBP:Pound (sterling)</th>\n",
       "      <th>JPY:Yen</th>\n",
       "      <th>OpenSNP</th>\n",
       "      <th>...</th>\n",
       "      <th>changeSNP</th>\n",
       "      <th>BTCincreased</th>\n",
       "      <th>SNPincreased</th>\n",
       "      <th>Lag1</th>\n",
       "      <th>Lag2</th>\n",
       "      <th>Lag3</th>\n",
       "      <th>Lag4</th>\n",
       "      <th>Lag5</th>\n",
       "      <th>movingAvg</th>\n",
       "      <th>dayNumber</th>\n",
       "    </tr>\n",
       "    <tr>\n",
       "      <th>index</th>\n",
       "      <th></th>\n",
       "      <th></th>\n",
       "      <th></th>\n",
       "      <th></th>\n",
       "      <th></th>\n",
       "      <th></th>\n",
       "      <th></th>\n",
       "      <th></th>\n",
       "      <th></th>\n",
       "      <th></th>\n",
       "      <th></th>\n",
       "      <th></th>\n",
       "      <th></th>\n",
       "      <th></th>\n",
       "      <th></th>\n",
       "      <th></th>\n",
       "      <th></th>\n",
       "      <th></th>\n",
       "      <th></th>\n",
       "      <th></th>\n",
       "      <th></th>\n",
       "    </tr>\n",
       "  </thead>\n",
       "  <tbody>\n",
       "    <tr>\n",
       "      <th>2022-02-28</th>\n",
       "      <td>37717.10</td>\n",
       "      <td>43178.98</td>\n",
       "      <td>3160.618070</td>\n",
       "      <td>1.364723e+08</td>\n",
       "      <td>0.892937</td>\n",
       "      <td>1.273685</td>\n",
       "      <td>0.922940</td>\n",
       "      <td>0.746049</td>\n",
       "      <td>115.465667</td>\n",
       "      <td>4354.17</td>\n",
       "      <td>...</td>\n",
       "      <td>19.77</td>\n",
       "      <td>1.0</td>\n",
       "      <td>1.0</td>\n",
       "      <td>39231.64</td>\n",
       "      <td>38376.88</td>\n",
       "      <td>37274.18</td>\n",
       "      <td>38269.94</td>\n",
       "      <td>39996.99</td>\n",
       "      <td>38629.926</td>\n",
       "      <td>2649</td>\n",
       "    </tr>\n",
       "    <tr>\n",
       "      <th>2022-02-25</th>\n",
       "      <td>38360.93</td>\n",
       "      <td>39231.64</td>\n",
       "      <td>2202.851827</td>\n",
       "      <td>8.642149e+07</td>\n",
       "      <td>0.891583</td>\n",
       "      <td>1.277193</td>\n",
       "      <td>0.927068</td>\n",
       "      <td>0.746612</td>\n",
       "      <td>115.584879</td>\n",
       "      <td>4298.38</td>\n",
       "      <td>...</td>\n",
       "      <td>86.27</td>\n",
       "      <td>1.0</td>\n",
       "      <td>1.0</td>\n",
       "      <td>38376.88</td>\n",
       "      <td>37274.18</td>\n",
       "      <td>38269.94</td>\n",
       "      <td>39996.99</td>\n",
       "      <td>40556.11</td>\n",
       "      <td>38894.820</td>\n",
       "      <td>2646</td>\n",
       "    </tr>\n",
       "    <tr>\n",
       "      <th>2022-02-24</th>\n",
       "      <td>37253.26</td>\n",
       "      <td>38376.88</td>\n",
       "      <td>6302.850957</td>\n",
       "      <td>2.418838e+08</td>\n",
       "      <td>0.895817</td>\n",
       "      <td>1.282451</td>\n",
       "      <td>0.924483</td>\n",
       "      <td>0.747675</td>\n",
       "      <td>114.915345</td>\n",
       "      <td>4155.77</td>\n",
       "      <td>...</td>\n",
       "      <td>132.93</td>\n",
       "      <td>1.0</td>\n",
       "      <td>1.0</td>\n",
       "      <td>37274.18</td>\n",
       "      <td>38269.94</td>\n",
       "      <td>39996.99</td>\n",
       "      <td>40556.11</td>\n",
       "      <td>43901.48</td>\n",
       "      <td>39999.740</td>\n",
       "      <td>2645</td>\n",
       "    </tr>\n",
       "    <tr>\n",
       "      <th>2022-02-23</th>\n",
       "      <td>38269.94</td>\n",
       "      <td>37274.18</td>\n",
       "      <td>1778.275258</td>\n",
       "      <td>6.628375e+07</td>\n",
       "      <td>0.881523</td>\n",
       "      <td>1.268865</td>\n",
       "      <td>0.919517</td>\n",
       "      <td>0.735746</td>\n",
       "      <td>115.109309</td>\n",
       "      <td>4324.93</td>\n",
       "      <td>...</td>\n",
       "      <td>-99.43</td>\n",
       "      <td>0.0</td>\n",
       "      <td>0.0</td>\n",
       "      <td>38269.94</td>\n",
       "      <td>39996.99</td>\n",
       "      <td>40556.11</td>\n",
       "      <td>43901.48</td>\n",
       "      <td>44582.48</td>\n",
       "      <td>41461.400</td>\n",
       "      <td>2644</td>\n",
       "    </tr>\n",
       "    <tr>\n",
       "      <th>2022-02-22</th>\n",
       "      <td>37036.98</td>\n",
       "      <td>38269.94</td>\n",
       "      <td>2388.759035</td>\n",
       "      <td>9.141766e+07</td>\n",
       "      <td>0.881679</td>\n",
       "      <td>1.273232</td>\n",
       "      <td>0.918886</td>\n",
       "      <td>0.737833</td>\n",
       "      <td>115.094340</td>\n",
       "      <td>4332.74</td>\n",
       "      <td>...</td>\n",
       "      <td>-27.98</td>\n",
       "      <td>1.0</td>\n",
       "      <td>0.0</td>\n",
       "      <td>39996.99</td>\n",
       "      <td>40556.11</td>\n",
       "      <td>43901.48</td>\n",
       "      <td>44582.48</td>\n",
       "      <td>42540.30</td>\n",
       "      <td>42315.472</td>\n",
       "      <td>2643</td>\n",
       "    </tr>\n",
       "  </tbody>\n",
       "</table>\n",
       "<p>5 rows × 24 columns</p>\n",
       "</div>"
      ],
      "text/plain": [
       "                open     close   Volume BTC    Volume USD  EUR:Euro  \\\n",
       "index                                                                 \n",
       "2022-02-28  37717.10  43178.98  3160.618070  1.364723e+08  0.892937   \n",
       "2022-02-25  38360.93  39231.64  2202.851827  8.642149e+07  0.891583   \n",
       "2022-02-24  37253.26  38376.88  6302.850957  2.418838e+08  0.895817   \n",
       "2022-02-23  38269.94  37274.18  1778.275258  6.628375e+07  0.881523   \n",
       "2022-02-22  37036.98  38269.94  2388.759035  9.141766e+07  0.881679   \n",
       "\n",
       "            CAD:Canadian dollar  CHF:Swiss franc  GBP:Pound (sterling)  \\\n",
       "index                                                                    \n",
       "2022-02-28             1.273685         0.922940              0.746049   \n",
       "2022-02-25             1.277193         0.927068              0.746612   \n",
       "2022-02-24             1.282451         0.924483              0.747675   \n",
       "2022-02-23             1.268865         0.919517              0.735746   \n",
       "2022-02-22             1.273232         0.918886              0.737833   \n",
       "\n",
       "               JPY:Yen  OpenSNP  ...  changeSNP  BTCincreased  SNPincreased  \\\n",
       "index                            ...                                          \n",
       "2022-02-28  115.465667  4354.17  ...      19.77           1.0           1.0   \n",
       "2022-02-25  115.584879  4298.38  ...      86.27           1.0           1.0   \n",
       "2022-02-24  114.915345  4155.77  ...     132.93           1.0           1.0   \n",
       "2022-02-23  115.109309  4324.93  ...     -99.43           0.0           0.0   \n",
       "2022-02-22  115.094340  4332.74  ...     -27.98           1.0           0.0   \n",
       "\n",
       "                Lag1      Lag2      Lag3      Lag4      Lag5  movingAvg  \\\n",
       "index                                                                     \n",
       "2022-02-28  39231.64  38376.88  37274.18  38269.94  39996.99  38629.926   \n",
       "2022-02-25  38376.88  37274.18  38269.94  39996.99  40556.11  38894.820   \n",
       "2022-02-24  37274.18  38269.94  39996.99  40556.11  43901.48  39999.740   \n",
       "2022-02-23  38269.94  39996.99  40556.11  43901.48  44582.48  41461.400   \n",
       "2022-02-22  39996.99  40556.11  43901.48  44582.48  42540.30  42315.472   \n",
       "\n",
       "            dayNumber  \n",
       "index                  \n",
       "2022-02-28       2649  \n",
       "2022-02-25       2646  \n",
       "2022-02-24       2645  \n",
       "2022-02-23       2644  \n",
       "2022-02-22       2643  \n",
       "\n",
       "[5 rows x 24 columns]"
      ]
     },
     "execution_count": 19,
     "metadata": {},
     "output_type": "execute_result"
    }
   ],
   "source": [
    "df.head()"
   ]
  },
  {
   "cell_type": "markdown",
   "id": "f05dce23",
   "metadata": {},
   "source": [
    "The columns Lag1-Lag5 show the previous 5 days of Bitcoin prices, and the movingAvg column shows us the 5 period moving average for our forecast. "
   ]
  },
  {
   "cell_type": "code",
   "execution_count": 20,
   "id": "ecd84cb3",
   "metadata": {},
   "outputs": [],
   "source": [
    "df['movAvgError'] = df['close']-df['movingAvg']"
   ]
  },
  {
   "cell_type": "code",
   "execution_count": 21,
   "id": "bdec08f3",
   "metadata": {},
   "outputs": [],
   "source": [
    "def expSmoothing(data, forecast_periods, alpha):\n",
    "    data = np.array(data)\n",
    "    cols = len(data)\n",
    "    data = np.append(data, [np.nan]*forecast_periods)\n",
    "    forecast = np.full(cols+forecast_periods, np.nan)\n",
    "    forecast[1] = data[0]\n",
    "    for t in range(2,cols+1):  \n",
    "        forecast[t] = alpha*data[t-1]+(1-alpha)*forecast[t-1]\n",
    "    forecast[cols+1:] = forecast[t]\n",
    "    df = pd.DataFrame.from_dict({\"ActualPrice\":data,\"ExpSmForecast\":forecast,\"ExpSmError\":data-forecast})\n",
    "    return df"
   ]
  },
  {
   "cell_type": "code",
   "execution_count": 22,
   "id": "0ccfac97",
   "metadata": {},
   "outputs": [],
   "source": [
    "df = df.sort_index(ascending = True)\n",
    "expSmoothingDf = expSmoothing(df['close'], 1, 0.5)\n",
    "df = df.reset_index()\n",
    "df = pd.merge(df, expSmoothingDf, left_index = True, right_index = True)\n",
    "df = df.set_index('index').sort_index(ascending = False)"
   ]
  },
  {
   "cell_type": "code",
   "execution_count": 23,
   "id": "9f1efa10",
   "metadata": {},
   "outputs": [
    {
     "data": {
      "image/png": "[encoded data removed]",
      "text/plain": [
       "<Figure size 432x288 with 1 Axes>"
      ]
     },
     "metadata": {
      "needs_background": "light"
     },
     "output_type": "display_data"
    }
   ],
   "source": [
    "plt.plot(df['2022-02-28':'2020-01-01'].index.values, df['2022-02-28':'2020-01-01']['ActualPrice'], color = 'b', label = 'Actual')\n",
    "plt.plot(df['2022-02-28':'2020-01-01'].index.values, df['2022-02-28':'2020-01-01']['movingAvg'], color = 'orange', label = \"Forecast\")\n",
    "plt.title(\"Moving Average Forecast of Bitcoin\")\n",
    "plt.legend()\n",
    "plt.show()"
   ]
  },
  {
   "cell_type": "code",
   "execution_count": 24,
   "id": "21c8e740",
   "metadata": {},
   "outputs": [
    {
     "data": {
      "image/png": "[encoded data removed]",
      "text/plain": [
       "<Figure size 432x288 with 1 Axes>"
      ]
     },
     "metadata": {
      "needs_background": "light"
     },
     "output_type": "display_data"
    }
   ],
   "source": [
    "plt.plot(df['2022-03-01':'2020-01-01'].index.values, df['2022-02-28':'2020-01-01']['ActualPrice'], color = 'b', label = 'Actual')\n",
    "plt.plot(df['2022-03-01':'2020-01-01'].index.values, df['2022-02-28':'2020-01-01']['ExpSmForecast'], color = 'g', label = 'Forecast')\n",
    "plt.title(\"Exponential Smoothing Forecast of Bitcoin\")\n",
    "plt.legend()\n",
    "plt.show()"
   ]
  },
  {
   "cell_type": "code",
   "execution_count": 25,
   "id": "7b73b1f2",
   "metadata": {},
   "outputs": [
    {
     "name": "stdout",
     "output_type": "stream",
     "text": [
      "Average error using 5 period moving average is 182.0667024029577 dollars\n",
      "Average error using exponential smoothing is 124.9674878169756 dollars\n"
     ]
    }
   ],
   "source": [
    "print(\"Average error using 5 period moving average is\", df['2022-02-28':'2020-01-01']['movAvgError'].mean(), \"dollars\")\n",
    "print(\"Average error using exponential smoothing is\", df['2022-02-28':'2020-01-01']['ExpSmError'].mean(), \"dollars\")"
   ]
  },
  {
   "cell_type": "markdown",
   "id": "dd1c2017",
   "metadata": {},
   "source": [
    "It is hard to compare these errors with the error from the regression modeling due to the different nature of each style of prediction, but we can see that the exponential smoothing model tends to be more accurate than the moving average, which is typical when using time series forecasting. However, the average error is large enough that we cannot reliably predict the price of Bitcoin using these time series forecasting models. Since the average error is positive for both, this suggests that the forecast tends to be lower than the actual price on average. In order to get a better representation of the error, we need to look at the absolute value of the forecast error and use the mean of this to see how far off the forecast is."
   ]
  },
  {
   "cell_type": "code",
   "execution_count": 26,
   "id": "06d43c46",
   "metadata": {},
   "outputs": [
    {
     "name": "stdout",
     "output_type": "stream",
     "text": [
      "Average absolute error using 5 period moving average is 1604.8768096118313 dollars\n",
      "Average absolute error using exponential smoothing is 1243.0989607568017 dollars\n"
     ]
    }
   ],
   "source": [
    "print(\"Average absolute error using 5 period moving average is\", df['2022-02-28':'2020-01-01']['movAvgError'].abs().mean(), \"dollars\")\n",
    "print(\"Average absolute error using exponential smoothing is\", df['2022-02-28':'2020-01-01']['ExpSmError'].abs().mean(), \"dollars\")"
   ]
  },
  {
   "cell_type": "code",
   "execution_count": null,
   "id": "59581847",
   "metadata": {},
   "outputs": [],
   "source": []
  }
 ],
 "metadata": {
  "kernelspec": {
   "display_name": "Python 3",
   "language": "python",
   "name": "python3"
  },
  "language_info": {
   "codemirror_mode": {
    "name": "ipython",
    "version": 3
   },
   "file_extension": ".py",
   "mimetype": "text/x-python",
   "name": "python",
   "nbconvert_exporter": "python",
   "pygments_lexer": "ipython3",
   "version": "3.8.8"
  }
 },
 "nbformat": 4,
 "nbformat_minor": 5
}
