{
 "cells": [
  {
   "cell_type": "code",
   "execution_count": 1,
   "id": "a3a8b411",
   "metadata": {},
   "outputs": [],
   "source": [
    "import numpy as np\n",
    "import pandas as pd\n",
    "from sklearn.linear_model import LinearRegression\n",
    "from sklearn.linear_model import LogisticRegression\n",
    "from sklearn.linear_model import Lasso\n",
    "from sklearn.naive_bayes import GaussianNB\n",
    "from sklearn.ensemble import AdaBoostClassifier\n",
    "from sklearn.ensemble import AdaBoostRegressor\n",
    "from sklearn.ensemble import RandomForestRegressor\n",
    "from sklearn.ensemble import RandomForestClassifier\n",
    "from sklearn.metrics import mean_squared_error\n",
    "from sklearn.metrics import accuracy_score\n",
    "from datetime import date, timedelta\n",
    "import matplotlib.pyplot as plt"
   ]
  },
  {
   "cell_type": "code",
   "execution_count": 2,
   "id": "c3df3c00",
   "metadata": {},
   "outputs": [],
   "source": [
    "hourly = pd.read_csv('BTC-Hourly.csv')"
   ]
  },
  {
   "cell_type": "code",
   "execution_count": 4,
   "id": "e83d78a6",
   "metadata": {},
   "outputs": [],
   "source": [
    "hourly['date'] = pd.to_datetime(hourly['date'])"
   ]
  },
  {
   "cell_type": "code",
   "execution_count": 5,
   "id": "bb427108",
   "metadata": {},
   "outputs": [],
   "source": [
    "hourly = hourly.set_index('date')"
   ]
  },
  {
   "cell_type": "code",
   "execution_count": 6,
   "id": "1f1b7ea6",
   "metadata": {},
   "outputs": [
    {
     "data": {
      "text/html": [
       "<div>\n",
       "<style scoped>\n",
       "    .dataframe tbody tr th:only-of-type {\n",
       "        vertical-align: middle;\n",
       "    }\n",
       "\n",
       "    .dataframe tbody tr th {\n",
       "        vertical-align: top;\n",
       "    }\n",
       "\n",
       "    .dataframe thead th {\n",
       "        text-align: right;\n",
       "    }\n",
       "</style>\n",
       "<table border=\"1\" class=\"dataframe\">\n",
       "  <thead>\n",
       "    <tr style=\"text-align: right;\">\n",
       "      <th></th>\n",
       "      <th>unix</th>\n",
       "      <th>symbol</th>\n",
       "      <th>open</th>\n",
       "      <th>high</th>\n",
       "      <th>low</th>\n",
       "      <th>close</th>\n",
       "      <th>Volume BTC</th>\n",
       "      <th>Volume USD</th>\n",
       "    </tr>\n",
       "    <tr>\n",
       "      <th>date</th>\n",
       "      <th></th>\n",
       "      <th></th>\n",
       "      <th></th>\n",
       "      <th></th>\n",
       "      <th></th>\n",
       "      <th></th>\n",
       "      <th></th>\n",
       "      <th></th>\n",
       "    </tr>\n",
       "  </thead>\n",
       "  <tbody>\n",
       "    <tr>\n",
       "      <th>2022-03-01 00:00:00</th>\n",
       "      <td>1646092800</td>\n",
       "      <td>BTC/USD</td>\n",
       "      <td>43221.71</td>\n",
       "      <td>43626.49</td>\n",
       "      <td>43185.48</td>\n",
       "      <td>43312.27</td>\n",
       "      <td>52.056320</td>\n",
       "      <td>2.254677e+06</td>\n",
       "    </tr>\n",
       "    <tr>\n",
       "      <th>2022-02-28 23:00:00</th>\n",
       "      <td>1646089200</td>\n",
       "      <td>BTC/USD</td>\n",
       "      <td>43085.30</td>\n",
       "      <td>43364.81</td>\n",
       "      <td>42892.37</td>\n",
       "      <td>43178.98</td>\n",
       "      <td>106.816103</td>\n",
       "      <td>4.612210e+06</td>\n",
       "    </tr>\n",
       "    <tr>\n",
       "      <th>2022-02-28 22:00:00</th>\n",
       "      <td>1646085600</td>\n",
       "      <td>BTC/USD</td>\n",
       "      <td>41657.23</td>\n",
       "      <td>44256.08</td>\n",
       "      <td>41650.29</td>\n",
       "      <td>42907.32</td>\n",
       "      <td>527.540571</td>\n",
       "      <td>2.263535e+07</td>\n",
       "    </tr>\n",
       "    <tr>\n",
       "      <th>2022-02-28 21:00:00</th>\n",
       "      <td>1646082000</td>\n",
       "      <td>BTC/USD</td>\n",
       "      <td>41917.09</td>\n",
       "      <td>41917.09</td>\n",
       "      <td>41542.60</td>\n",
       "      <td>41659.53</td>\n",
       "      <td>69.751680</td>\n",
       "      <td>2.905822e+06</td>\n",
       "    </tr>\n",
       "    <tr>\n",
       "      <th>2022-02-28 20:00:00</th>\n",
       "      <td>1646078400</td>\n",
       "      <td>BTC/USD</td>\n",
       "      <td>41361.99</td>\n",
       "      <td>41971.00</td>\n",
       "      <td>41284.11</td>\n",
       "      <td>41914.97</td>\n",
       "      <td>247.151654</td>\n",
       "      <td>1.035935e+07</td>\n",
       "    </tr>\n",
       "  </tbody>\n",
       "</table>\n",
       "</div>"
      ],
      "text/plain": [
       "                           unix   symbol      open      high       low  \\\n",
       "date                                                                     \n",
       "2022-03-01 00:00:00  1646092800  BTC/USD  43221.71  43626.49  43185.48   \n",
       "2022-02-28 23:00:00  1646089200  BTC/USD  43085.30  43364.81  42892.37   \n",
       "2022-02-28 22:00:00  1646085600  BTC/USD  41657.23  44256.08  41650.29   \n",
       "2022-02-28 21:00:00  1646082000  BTC/USD  41917.09  41917.09  41542.60   \n",
       "2022-02-28 20:00:00  1646078400  BTC/USD  41361.99  41971.00  41284.11   \n",
       "\n",
       "                        close  Volume BTC    Volume USD  \n",
       "date                                                     \n",
       "2022-03-01 00:00:00  43312.27   52.056320  2.254677e+06  \n",
       "2022-02-28 23:00:00  43178.98  106.816103  4.612210e+06  \n",
       "2022-02-28 22:00:00  42907.32  527.540571  2.263535e+07  \n",
       "2022-02-28 21:00:00  41659.53   69.751680  2.905822e+06  \n",
       "2022-02-28 20:00:00  41914.97  247.151654  1.035935e+07  "
      ]
     },
     "execution_count": 6,
     "metadata": {},
     "output_type": "execute_result"
    }
   ],
   "source": [
    "hourly.head()"
   ]
  },
  {
   "cell_type": "code",
   "execution_count": 7,
   "id": "0f0f88ad",
   "metadata": {},
   "outputs": [],
   "source": [
    "hourly['changeBTC'] = hourly['close']-hourly['open']"
   ]
  },
  {
   "cell_type": "code",
   "execution_count": 33,
   "id": "3cfc454b",
   "metadata": {},
   "outputs": [],
   "source": [
    "hourly = hourly.filter(items = ['open','high','low','close','Volume BTC','changeBTC'])"
   ]
  },
  {
   "cell_type": "code",
   "execution_count": 34,
   "id": "e43b691d",
   "metadata": {},
   "outputs": [],
   "source": [
    "def expSmoothing(data, forecast_periods, alpha):\n",
    "    data = np.array(data)\n",
    "    cols = len(data)\n",
    "    data = np.append(data, [np.nan]*forecast_periods)\n",
    "    forecast = np.full(cols+forecast_periods, np.nan)\n",
    "    forecast[1] = data[0]\n",
    "    for t in range(2,cols+forecast_periods):  \n",
    "        forecast[t] = alpha*data[t-1]+(1-alpha)*forecast[t-1]\n",
    "    forecast[cols+1:] = forecast[t]\n",
    "    df = pd.DataFrame.from_dict({\"ActualPrice\":data,\"ExpSmForecast\":forecast,\"ExpSmError\":data-forecast})\n",
    "    return df"
   ]
  },
  {
   "cell_type": "code",
   "execution_count": 36,
   "id": "04b3986a",
   "metadata": {},
   "outputs": [],
   "source": [
    "hourly = hourly.sort_index(ascending = True)\n",
    "expSmDf = expSmoothing(hourly['close'], 1, 0.3)\n",
    "hourly = hourly.reset_index()\n",
    "df = pd.merge(hourly, expSmDf, left_index = True, right_index = True)\n",
    "df = df.set_index('index')\n",
    "df = df.sort_index(ascending = False)"
   ]
  },
  {
   "cell_type": "code",
   "execution_count": 37,
   "id": "42eb151d",
   "metadata": {},
   "outputs": [
    {
     "data": {
      "text/plain": [
       "151.76420614059168"
      ]
     },
     "execution_count": 37,
     "metadata": {},
     "output_type": "execute_result"
    }
   ],
   "source": [
    "df['ExpSmError'].abs().mean()"
   ]
  }
 ],
 "metadata": {
  "kernelspec": {
   "display_name": "Python 3",
   "language": "python",
   "name": "python3"
  },
  "language_info": {
   "codemirror_mode": {
    "name": "ipython",
    "version": 3
   },
   "file_extension": ".py",
   "mimetype": "text/x-python",
   "name": "python",
   "nbconvert_exporter": "python",
   "pygments_lexer": "ipython3",
   "version": "3.8.8"
  }
 },
 "nbformat": 4,
 "nbformat_minor": 5
}
